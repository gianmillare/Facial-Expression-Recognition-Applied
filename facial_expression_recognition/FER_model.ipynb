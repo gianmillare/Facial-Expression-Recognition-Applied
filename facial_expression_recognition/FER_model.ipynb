{
 "cells": [
  {
   "cell_type": "markdown",
   "id": "10ed61c9",
   "metadata": {},
   "source": [
    "# (Applied) Facial Expression Recognition\n",
    "\n",
    "<hr>"
   ]
  },
  {
   "cell_type": "markdown",
   "id": "8b110ad5",
   "metadata": {},
   "source": [
    "### Importing Dependencies"
   ]
  },
  {
   "cell_type": "code",
   "execution_count": 4,
   "id": "08b8314c",
   "metadata": {},
   "outputs": [],
   "source": [
    "%matplotlib inline\n",
    "import numpy as np\n",
    "import seaborn as sns\n",
    "import matplotlib.pyplot as plt\n",
    "import os\n",
    "\n",
    "from tensorflow.keras.preprocessing.image import ImageDataGenerator\n",
    "from tensorflow.keras.layers import Dense, Input, Dropout, Flatten, Conv2D\n",
    "from tensorflow.keras.layers import BatchNormalization, Activation, MaxPooling2D\n",
    "from tensorflow.keras.models import Model, Sequential\n",
    "from tensorflow.keras.optimizers import Adam\n",
    "from tensorflow.keras.callbacks import ModelCheckpoint, ReduceLROnPlateau\n",
    "from tensorflow.keras.preprocessing.image import load_img, img_to_array\n",
    "\n",
    "from IPython.display import SVG, Image\n",
    "from livelossplot.tf_keras import PlotLossesCallback\n",
    "import tensorflow as tf"
   ]
  },
  {
   "cell_type": "markdown",
   "id": "44199faa",
   "metadata": {},
   "source": [
    "### Function to display images that show images used in training and testing sets.\n",
    "\n",
    "<hr>"
   ]
  },
  {
   "cell_type": "code",
   "execution_count": 5,
   "id": "98adad4f",
   "metadata": {},
   "outputs": [],
   "source": [
    "def show_train_test_images(plt):\n",
    "    plt.figure(0, figsize=(12,20))\n",
    "    ctr=0\n",
    "    \n",
    "    for i in os.listdir(\"train/\"):\n",
    "        for j in range(1,6):\n",
    "            ctr+=1\n",
    "            plt.subplot(7,5,ctr)\n",
    "            img = load_img('train/' + i + \"/\" + os.listdir('train/' + i)[j], target_size=(48,48))\n",
    "            plt.imshow(img, cmap='gray')\n",
    "    \n",
    "    plt.tight_layout()\n",
    "    return plt"
   ]
  },
  {
   "cell_type": "code",
   "execution_count": null,
   "id": "d4416c50",
   "metadata": {},
   "outputs": [],
   "source": []
  }
 ],
 "metadata": {
  "kernelspec": {
   "display_name": "Python 3",
   "language": "python",
   "name": "python3"
  },
  "language_info": {
   "codemirror_mode": {
    "name": "ipython",
    "version": 3
   },
   "file_extension": ".py",
   "mimetype": "text/x-python",
   "name": "python",
   "nbconvert_exporter": "python",
   "pygments_lexer": "ipython3",
   "version": "3.8.9"
  }
 },
 "nbformat": 4,
 "nbformat_minor": 5
}
